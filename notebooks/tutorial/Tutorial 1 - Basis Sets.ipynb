{
 "cells": [
  {
   "cell_type": "markdown",
   "id": "158f041c",
   "metadata": {},
   "source": [
    "# GBasis Tutorial - Basis Sets"
   ]
  },
  {
   "cell_type": "markdown",
   "id": "f2e7dbd1",
   "metadata": {},
   "source": [
    "# 1 Basis Sets"
   ]
  },
  {
   "cell_type": "markdown",
   "id": "87e31854",
   "metadata": {},
   "source": [
    "In [gbasis](https://gbasis.readthedocs.io/en/latest/), a basis set is defined as a list of [`GeneralizedContractionShell`](add_link) objects, each one representing a linear combination of primitives and containing all the information defining this combination (i.e the angular momentum of the shell, the center of the shell, the exponents of the primitives, the contraction coefficients, and the normalization coefficients).\n",
    "\n",
    "This notebook showcases the different ways to define a basis set for a molecule and how to transform them."
   ]
  },
  {
   "cell_type": "markdown",
   "id": "d9083083",
   "metadata": {},
   "source": [
    "## 1.1 Loading Basis Sets"
   ]
  },
  {
   "cell_type": "markdown",
   "id": "88f14a1d",
   "metadata": {},
   "source": [
    "Basis set information is often stored in text format. In `gbasis`, the Gaussian94 format (.gbs) and\n",
    "the NWChem format (.nw) are supported."
   ]
  },
  {
   "cell_type": "code",
   "execution_count": 1,
   "id": "6f84ae44",
   "metadata": {},
   "outputs": [
    {
     "name": "stdout",
     "output_type": "stream",
     "text": [
      "def2-SVP Basis Set Loaded from Gaussian94 Format:\n",
      "{'H': [(0, array([13.010701  ,  1.9622572 ,  0.44453796]), array([[0.01968216],\n",
      "       [0.13796524],\n",
      "       [0.47831935]])), (0, array([0.12194962]), array([[1.]])), (1, array([0.8]), array([[1.]]))]}\n",
      "\n",
      "def2-SVP Basis Set Loaded from NWChem Format:\n",
      "{'H': [(0, array([13.010701  ,  1.9622572 ,  0.44453796]), array([[0.01968216],\n",
      "       [0.13796524],\n",
      "       [0.47831935]])), (0, array([0.12194962]), array([[1.]])), (1, array([0.8]), array([[1.]]))]}\n"
     ]
    }
   ],
   "source": [
    "import gbasis\n",
    "import numpy as np\n",
    "from gbasis.parsers import parse_gbs, parse_nwchem, make_contractions\n",
    "\n",
    "# use H2 molecule as an example system\n",
    "atoms = [\"H\", \"H\"]\n",
    "coords = np.array([[0, 0, 0], [0, 0, 1]])\n",
    "\n",
    "# load hydrogen def2-SVP basis set information with the Gaussian94 format\n",
    "gbs_basis_dict = parse_gbs(\"hydrogen_def2-svp.1.gbs\")\n",
    "gbs_basis = make_contractions(gbs_basis_dict, atoms, coords)\n",
    "\n",
    "# load hydrogen def2-SVP basis set information with the NWChem format\n",
    "nw_basis_dict = parse_nwchem(\"hydrogen_def2-svp.1.nw\")\n",
    "nw_basis = make_contractions(nw_basis_dict, atoms, coords)\n",
    "\n",
    "# print gbs_basis_dict and nw_basis_dict to verify they are the same\n",
    "print(\"def2-SVP Basis Set Loaded from Gaussian94 Format:\")\n",
    "print(gbs_basis_dict)\n",
    "print()\n",
    "print(\"def2-SVP Basis Set Loaded from NWChem Format:\")\n",
    "print(nw_basis_dict)"
   ]
  },
  {
   "cell_type": "markdown",
   "id": "692510fa",
   "metadata": {},
   "source": [
    "## 1.2 Building Basis Sets"
   ]
  },
  {
   "cell_type": "markdown",
   "id": "f0e7c789",
   "metadata": {},
   "source": [
    "`gbasis` interfaces to the `iodata` module, which handles the inputs and outputs for different quantum chemistry formats, such as Gaussian formatted checkpoint files (.fchk) and AIM\n",
    "wavefunction files (.wfn and .wfx). Additonally, `gbasis` interfaces to `pyscf`, which is an ab initio computational chemistry program."
   ]
  },
  {
   "cell_type": "code",
   "execution_count": 2,
   "id": "d5a9da5f",
   "metadata": {},
   "outputs": [],
   "source": [
    "from iodata import load_one\n",
    "from pyscf import gto\n",
    "from gbasis.wrappers import from_iodata, from_pyscf\n",
    "\n",
    "# build a basis from an fchk file (water at uwB97XD/def2-TZVPD LOT) using IOData\n",
    "iodata_mol = load_one(\"water.fchk\")\n",
    "iodata_basis = from_iodata(iodata_mol)\n",
    "\n",
    "# build an STO-3G basis for water using PySCF\n",
    "pyscf_mol = gto.Mole()\n",
    "pyscf_mol.build(\n",
    "    atom = \"O 0 0 0; H 0 1 0; H 0 0 1\",\n",
    "    basis = \"sto-3g\"\n",
    ")\n",
    "pyscf_basis = from_pyscf(pyscf_mol)"
   ]
  },
  {
   "cell_type": "markdown",
   "id": "28243d65",
   "metadata": {},
   "source": [
    "## 1.3 Types of Coordinate Systems Used by Basis Functions"
   ]
  },
  {
   "cell_type": "markdown",
   "id": "8e898396",
   "metadata": {},
   "source": [
    "In `gbasis`, the user can provide the coordinate system used by each shell of generalized contractions that gets stored in the basis list. The `make_contractions` function is useful for instantiating a basis for a system of atoms based on the `basis_dict` output of the parsers from `gbasis.parsers`. For a given call of `make_contractions`, one can pass either a string (\"cartesian\" or \"spherical\") or a list of strings to specify `coord_types`. If a string is passed, all contractions for all atoms are treated as having the same `coord_type`. \n",
    "If different shells correspond to different coordinate systems, then a list of the same length as the basis must be provided with each entry being \"spherical\" or \"cartesian\" to specify the coordinate system\n",
    "of the corresponding shell. For example, if atom 1 contributes 8 contractions and atom 2 contributes 8 contractions, the `coord_types` list should be of length 16, where the first 8 elements correspond to contractions for atom 1 and the last 8 elements correspond to contractions for atom 2. These possibilities are illustrated in the code cell below using the Kr<sub>2</sub> molecule as an example:"
   ]
  },
  {
   "cell_type": "code",
   "execution_count": 3,
   "id": "af37ce41",
   "metadata": {},
   "outputs": [
    {
     "name": "stdout",
     "output_type": "stream",
     "text": [
      "['cartesian', 'cartesian', 'cartesian', 'cartesian', 'cartesian', 'cartesian', 'cartesian', 'cartesian', 'cartesian', 'cartesian', 'cartesian', 'cartesian', 'cartesian', 'cartesian', 'cartesian', 'cartesian']\n",
      "\n",
      "['spherical', 'spherical', 'spherical', 'spherical', 'spherical', 'spherical', 'spherical', 'spherical', 'spherical', 'spherical', 'spherical', 'spherical', 'spherical', 'spherical', 'spherical', 'spherical']\n",
      "\n",
      "['spherical', 'spherical', 'spherical', 'spherical', 'spherical', 'spherical', 'spherical', 'spherical', 'spherical', 'spherical', 'spherical', 'spherical', 'spherical', 'spherical', 'spherical', 'cartesian']\n"
     ]
    }
   ],
   "source": [
    "# load STO-6G basis set information\n",
    "basis_dict = parse_nwchem(\"data_sto6g.nwchem\")\n",
    "\n",
    "# create basis for Kr2 using cartesian coordinates for all generalized contractions\n",
    "cartesian_basis = make_contractions(basis_dict, \n",
    "                                    [\"Kr\", \"Kr\"], \n",
    "                                    np.array([[0, 0, 0], [1, 0, 0]]),\n",
    "                                    coord_types=\"cartesian\")\n",
    "print([shell.coord_type for shell in cartesian_basis])\n",
    "print()\n",
    "\n",
    "# create basis for Kr2 using spherical coordinates for all generalized contractions\n",
    "spherical_basis = make_contractions(basis_dict, \n",
    "                                    [\"Kr\", \"Kr\"], \n",
    "                                    np.array([[0, 0, 0], [1, 0, 0]]),\n",
    "                                    coord_types=\"spherical\")\n",
    "print([shell.coord_type for shell in spherical_basis])\n",
    "print()\n",
    "\n",
    "# create basis for Kr2 using spherical coordinates for all generalized contractions\n",
    "# except the last one, which is specified to be cartesian\n",
    "mixed_basis = make_contractions(basis_dict, \n",
    "                                [\"Kr\", \"Kr\"], \n",
    "                                np.array([[0, 0, 0], [1, 0, 0]]),\n",
    "                                coord_types=[\"spherical\"] * 15 + [\"cartesian\"])\n",
    "print([shell.coord_type for shell in mixed_basis])"
   ]
  },
  {
   "cell_type": "markdown",
   "id": "72420dd3",
   "metadata": {},
   "source": [
    "## 1.4 Linear Transformations of Basis Functions"
   ]
  },
  {
   "cell_type": "markdown",
   "id": "a7342d7d",
   "metadata": {},
   "source": [
    "In `gbasis`, the user can linearly transform the basis functions before computing the desired properties.\n",
    "All of the higher level functions have the keyword argument `transform` to specify the matrix that\n",
    "transforms the basis set. The transformation is applied to the left, i.e.,\n",
    "\n",
    "$$\\begin{equation}\n",
    " \\psi_i = \\sum_j T_{ij} \\phi_j\n",
    "\\end{equation}$$\n",
    "\n",
    "where {$\\phi_{j}$} is the basis set before transformation and {$\\psi_{i}$} is the basis function after transformation.\n",
    "The number of basis functions depends on the coordinate systems specified for each shell. \n",
    "\n",
    "Examples involving such transformations are provided in the tutorial notebooks on evaluations and integrals wherever molecular rather than atomic orbitals are involved in calculations."
   ]
  }
 ],
 "metadata": {
  "kernelspec": {
   "display_name": "Python 3 (ipykernel)",
   "language": "python",
   "name": "python3"
  },
  "language_info": {
   "codemirror_mode": {
    "name": "ipython",
    "version": 3
   },
   "file_extension": ".py",
   "mimetype": "text/x-python",
   "name": "python",
   "nbconvert_exporter": "python",
   "pygments_lexer": "ipython3",
   "version": "3.7.12"
  }
 },
 "nbformat": 4,
 "nbformat_minor": 5
}
